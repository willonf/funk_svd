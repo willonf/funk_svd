{
 "nbformat": 4,
 "nbformat_minor": 0,
 "metadata": {
  "colab": {
   "provenance": [],
   "authorship_tag": "ABX9TyO7SfYcJe6yjCgqpwQOGALe"
  },
  "kernelspec": {
   "name": "python3",
   "display_name": "Python 3 (ipykernel)",
   "language": "python"
  },
  "language_info": {
   "name": "python"
  }
 },
 "cells": [
  {
   "metadata": {
    "ExecuteTime": {
     "end_time": "2024-12-10T06:04:24.885153Z",
     "start_time": "2024-12-10T06:04:24.881402Z"
    }
   },
   "cell_type": "code",
   "source": [
    "import math\n",
    "import time\n",
    "\n",
    "import numpy as np\n",
    "import polars as pl\n",
    "from numpy.ma.core import round_\n",
    "from sklearn.model_selection import train_test_split"
   ],
   "outputs": [],
   "execution_count": 29
  },
  {
   "metadata": {
    "ExecuteTime": {
     "end_time": "2024-12-10T06:04:24.929568Z",
     "start_time": "2024-12-10T06:04:24.917426Z"
    }
   },
   "cell_type": "code",
   "source": [
    "class FunkSVD:\n",
    "    def __init__(self, k=40, learning_rate=0.001, regulation=0.02, iterations=10):\n",
    "        self.k = k\n",
    "        self.learning_rate = learning_rate\n",
    "        self.regulation = regulation\n",
    "        self.iterations = iterations\n",
    "\n",
    "        self.global_mean = None\n",
    "        self.users_bias = None\n",
    "        self.items_bias = None\n",
    "        self.P_matrix = None\n",
    "        self.Q_matrix = None\n",
    "\n",
    "        # RMSE\n",
    "        self.rmse_train_errors = None\n",
    "        self.rmse_test_error = None\n",
    "\n",
    "        # MAE\n",
    "        self.mae_train_errors = None\n",
    "        self.mae_test_error = None\n",
    "\n",
    "    def fit(self, X_user_item, y_rating):\n",
    "        rating_n_rows = y_rating.shape[0]\n",
    "\n",
    "        self.global_mean = y_rating.select('rating').mean()['rating'][0]\n",
    "\n",
    "        n_users = X_user_item.select('userId').max().rows()[0][0]\n",
    "        n_items = X_user_item.select('movieId').max().rows()[0][0]\n",
    "\n",
    "        self.users_bias = np.zeros(shape=n_users)\n",
    "        self.items_bias = np.zeros(shape=n_items)\n",
    "\n",
    "        self.P_matrix = np.full(shape=(n_users, self.k), fill_value=0.1, dtype=np.float64)\n",
    "        self.Q_matrix = np.full(shape=(n_items, self.k), fill_value=0.1, dtype=np.float64)\n",
    "\n",
    "        _rmse_train_errors = np.zeros(shape=self.iterations)\n",
    "        _mae_train_errors = np.zeros(shape=self.iterations)\n",
    "\n",
    "        for n_iteration in range(self.iterations):\n",
    "            print(f'TRAINING - ITERAÇÃO: {n_iteration}')\n",
    "            sq_error = 0\n",
    "            mae_error = 0\n",
    "            for r_matrix_row in range(rating_n_rows):\n",
    "\n",
    "                user = X_user_item[r_matrix_row].select('userId').rows()[0][0] - 1\n",
    "                item = X_user_item[r_matrix_row].select('movieId').rows()[0][0] - 1\n",
    "                real_r = y_rating[r_matrix_row].select('rating').rows()[0][0]\n",
    "\n",
    "                pred_r = self.global_mean + self.users_bias[user] + self.items_bias[item] + np.dot(self.P_matrix[user], self.Q_matrix[item])\n",
    "                error_ui = real_r - pred_r\n",
    "                sq_error = sq_error + error_ui ** 2\n",
    "                mae_error = mae_error + abs(error_ui)\n",
    "\n",
    "                self.users_bias[user] = self.users_bias[user] + self.learning_rate * (error_ui - self.regulation * self.users_bias[user])\n",
    "                self.items_bias[item] = self.items_bias[item] + self.learning_rate * (error_ui - self.regulation * self.items_bias[item])\n",
    "\n",
    "                for factor in range(self.k):\n",
    "                    temp_uf = self.P_matrix[user, factor]\n",
    "                    self.P_matrix[user, factor] = self.P_matrix[user, factor] + self.learning_rate * (error_ui * self.Q_matrix[item, factor] - self.regulation * self.P_matrix[user, factor])\n",
    "                    self.Q_matrix[item, factor] = self.Q_matrix[item, factor] + self.learning_rate * (error_ui * temp_uf - self.regulation * self.Q_matrix[item, factor])\n",
    "            _rmse_train_errors[n_iteration] = round(math.sqrt(sq_error / rating_n_rows), 4)  # RMSE\n",
    "            _mae_train_errors[n_iteration] = round(sq_error / rating_n_rows, 4)  # MAE\n",
    "            print(f'TRAINING - RMSE: {round(math.sqrt(sq_error / rating_n_rows), 4)} - MAE: {round(sq_error / rating_n_rows, 4)}')\n",
    "\n",
    "        self.rmse_train_errors = pl.DataFrame(np.array([_rmse_train_errors, list(range(1, self.iterations + 1))]), schema=[(\"rmse\", pl.Float64), (\"iteration\", pl.Int64)], orient=\"col\")\n",
    "        self.mae_train_errors = pl.DataFrame(np.array([_mae_train_errors, list(range(1, self.iterations + 1))]), schema=[(\"mae\", pl.Float64), (\"iteration\", pl.Int64)], orient=\"col\")\n",
    "\n",
    "        self.rmse_train_errors.write_csv('./_rmse_train_errors.csv')\n",
    "        self.mae_train_errors.write_csv('./_mae_train_errors.csv')\n",
    "\n",
    "    def predict_rating(self, user_id, item_id):\n",
    "        return round(self.global_mean + self.users_bias[user_id - 1] + self.items_bias[item_id - 1] + np.dot(self.P_matrix[user_id - 1], self.Q_matrix[item_id - 1]), 4)\n",
    "\n",
    "    def evaluate(self, X_user_item, y_rating):\n",
    "        rating_n_rows = X_user_item.shape[0]\n",
    "        sq_error = 0\n",
    "        mae_error = 0\n",
    "\n",
    "        for row_index in range(rating_n_rows):\n",
    "            user_id = X_user_item[row_index].rows()[0][0]\n",
    "            item_id = X_user_item[row_index].rows()[0][1]\n",
    "            real_rating = y_rating[row_index].rows()[0][0]\n",
    "            predicted_rating = self.predict_rating(user_id, item_id)\n",
    "\n",
    "            error_ui = real_rating - predicted_rating\n",
    "            sq_error = sq_error + error_ui ** 2\n",
    "            mae_error = mae_error + abs(error_ui)\n",
    "\n",
    "        self.rmse_test_error = round(math.sqrt(sq_error / rating_n_rows), 4)\n",
    "        self.mae_test_error = round(mae_error / rating_n_rows, 4)"
   ],
   "outputs": [],
   "execution_count": 30
  },
  {
   "metadata": {
    "ExecuteTime": {
     "end_time": "2024-12-10T06:04:24.960115Z",
     "start_time": "2024-12-10T06:04:24.946918Z"
    }
   },
   "cell_type": "code",
   "source": [
    "df_movies = pl.read_csv('./movies.csv')\n",
    "df_ratings = pl.read_csv('./ratings.csv')\n",
    "df_ratings = df_ratings.drop('timestamp')\n",
    "df_ratings = df_ratings.sort('userId')"
   ],
   "outputs": [],
   "execution_count": 31
  },
  {
   "metadata": {
    "ExecuteTime": {
     "end_time": "2024-12-10T06:04:24.986936Z",
     "start_time": "2024-12-10T06:04:24.981841Z"
    }
   },
   "cell_type": "code",
   "source": "df_ratings.head(5)",
   "outputs": [
    {
     "data": {
      "text/plain": [
       "shape: (5, 3)\n",
       "┌────────┬─────────┬────────┐\n",
       "│ userId ┆ movieId ┆ rating │\n",
       "│ ---    ┆ ---     ┆ ---    │\n",
       "│ i64    ┆ i64     ┆ f64    │\n",
       "╞════════╪═════════╪════════╡\n",
       "│ 1      ┆ 1       ┆ 4.0    │\n",
       "│ 1      ┆ 3       ┆ 4.0    │\n",
       "│ 1      ┆ 6       ┆ 4.0    │\n",
       "│ 1      ┆ 47      ┆ 5.0    │\n",
       "│ 1      ┆ 50      ┆ 5.0    │\n",
       "└────────┴─────────┴────────┘"
      ],
      "text/html": [
       "<div><style>\n",
       ".dataframe > thead > tr,\n",
       ".dataframe > tbody > tr {\n",
       "  text-align: right;\n",
       "  white-space: pre-wrap;\n",
       "}\n",
       "</style>\n",
       "<small>shape: (5, 3)</small><table border=\"1\" class=\"dataframe\"><thead><tr><th>userId</th><th>movieId</th><th>rating</th></tr><tr><td>i64</td><td>i64</td><td>f64</td></tr></thead><tbody><tr><td>1</td><td>1</td><td>4.0</td></tr><tr><td>1</td><td>3</td><td>4.0</td></tr><tr><td>1</td><td>6</td><td>4.0</td></tr><tr><td>1</td><td>47</td><td>5.0</td></tr><tr><td>1</td><td>50</td><td>5.0</td></tr></tbody></table></div>"
      ]
     },
     "execution_count": 32,
     "metadata": {},
     "output_type": "execute_result"
    }
   ],
   "execution_count": 32
  },
  {
   "metadata": {
    "ExecuteTime": {
     "end_time": "2024-12-10T06:04:25.053240Z",
     "start_time": "2024-12-10T06:04:25.044931Z"
    }
   },
   "cell_type": "code",
   "source": "df_ratings.describe()",
   "outputs": [
    {
     "data": {
      "text/plain": [
       "shape: (9, 4)\n",
       "┌────────────┬────────────┬──────────────┬──────────┐\n",
       "│ statistic  ┆ userId     ┆ movieId      ┆ rating   │\n",
       "│ ---        ┆ ---        ┆ ---          ┆ ---      │\n",
       "│ str        ┆ f64        ┆ f64          ┆ f64      │\n",
       "╞════════════╪════════════╪══════════════╪══════════╡\n",
       "│ count      ┆ 100836.0   ┆ 100836.0     ┆ 100836.0 │\n",
       "│ null_count ┆ 0.0        ┆ 0.0          ┆ 0.0      │\n",
       "│ mean       ┆ 326.127564 ┆ 19435.295718 ┆ 3.501557 │\n",
       "│ std        ┆ 182.618491 ┆ 35530.987199 ┆ 1.042529 │\n",
       "│ min        ┆ 1.0        ┆ 1.0          ┆ 0.5      │\n",
       "│ 25%        ┆ 177.0      ┆ 1199.0       ┆ 3.0      │\n",
       "│ 50%        ┆ 325.0      ┆ 2991.0       ┆ 3.5      │\n",
       "│ 75%        ┆ 477.0      ┆ 8121.0       ┆ 4.0      │\n",
       "│ max        ┆ 610.0      ┆ 193609.0     ┆ 5.0      │\n",
       "└────────────┴────────────┴──────────────┴──────────┘"
      ],
      "text/html": [
       "<div><style>\n",
       ".dataframe > thead > tr,\n",
       ".dataframe > tbody > tr {\n",
       "  text-align: right;\n",
       "  white-space: pre-wrap;\n",
       "}\n",
       "</style>\n",
       "<small>shape: (9, 4)</small><table border=\"1\" class=\"dataframe\"><thead><tr><th>statistic</th><th>userId</th><th>movieId</th><th>rating</th></tr><tr><td>str</td><td>f64</td><td>f64</td><td>f64</td></tr></thead><tbody><tr><td>&quot;count&quot;</td><td>100836.0</td><td>100836.0</td><td>100836.0</td></tr><tr><td>&quot;null_count&quot;</td><td>0.0</td><td>0.0</td><td>0.0</td></tr><tr><td>&quot;mean&quot;</td><td>326.127564</td><td>19435.295718</td><td>3.501557</td></tr><tr><td>&quot;std&quot;</td><td>182.618491</td><td>35530.987199</td><td>1.042529</td></tr><tr><td>&quot;min&quot;</td><td>1.0</td><td>1.0</td><td>0.5</td></tr><tr><td>&quot;25%&quot;</td><td>177.0</td><td>1199.0</td><td>3.0</td></tr><tr><td>&quot;50%&quot;</td><td>325.0</td><td>2991.0</td><td>3.5</td></tr><tr><td>&quot;75%&quot;</td><td>477.0</td><td>8121.0</td><td>4.0</td></tr><tr><td>&quot;max&quot;</td><td>610.0</td><td>193609.0</td><td>5.0</td></tr></tbody></table></div>"
      ]
     },
     "execution_count": 33,
     "metadata": {},
     "output_type": "execute_result"
    }
   ],
   "execution_count": 33
  },
  {
   "metadata": {
    "ExecuteTime": {
     "end_time": "2024-12-10T06:04:25.143471Z",
     "start_time": "2024-12-10T06:04:25.127332Z"
    }
   },
   "cell_type": "code",
   "source": [
    "X = df_ratings.select(['userId', 'movieId'])\n",
    "y = df_ratings.select('rating')\n",
    "X_train, X_test, y_train, y_test = train_test_split(X, y, random_state=42)\n",
    "\n",
    "model = FunkSVD()"
   ],
   "outputs": [],
   "execution_count": 34
  },
  {
   "metadata": {
    "ExecuteTime": {
     "end_time": "2024-12-10T06:05:44.928176Z",
     "start_time": "2024-12-10T06:04:25.318931Z"
    }
   },
   "cell_type": "code",
   "source": [
    "print(f'INICIANDO TREINAMENTO...')\n",
    "start_trainning = time.time()\n",
    "model.fit(X_train, y_train)\n",
    "print(f'FINALIZANDO TREINAMENTO...')\n",
    "end_trainning = time.time()"
   ],
   "outputs": [
    {
     "name": "stdout",
     "output_type": "stream",
     "text": [
      "INICIANDO TREINAMENTO...\n",
      "TRAINING - ITERAÇÃO: 0\n",
      "TRAINING - RMSE: 1.0375 - MAE: 1.0764\n",
      "TRAINING - ITERAÇÃO: 1\n",
      "TRAINING - RMSE: 0.9759 - MAE: 0.9524\n",
      "TRAINING - ITERAÇÃO: 2\n",
      "TRAINING - RMSE: 0.9524 - MAE: 0.9071\n",
      "TRAINING - ITERAÇÃO: 3\n",
      "TRAINING - RMSE: 0.9384 - MAE: 0.8806\n",
      "TRAINING - ITERAÇÃO: 4\n",
      "TRAINING - RMSE: 0.9285 - MAE: 0.8622\n",
      "TRAINING - ITERAÇÃO: 5\n",
      "TRAINING - RMSE: 0.9209 - MAE: 0.848\n",
      "TRAINING - ITERAÇÃO: 6\n",
      "TRAINING - RMSE: 0.9146 - MAE: 0.8365\n",
      "TRAINING - ITERAÇÃO: 7\n",
      "TRAINING - RMSE: 0.9093 - MAE: 0.8268\n",
      "TRAINING - ITERAÇÃO: 8\n",
      "TRAINING - RMSE: 0.9047 - MAE: 0.8185\n",
      "TRAINING - ITERAÇÃO: 9\n",
      "TRAINING - RMSE: 0.9007 - MAE: 0.8112\n",
      "FINALIZANDO TREINAMENTO...\n"
     ]
    }
   ],
   "execution_count": 35
  },
  {
   "metadata": {
    "ExecuteTime": {
     "end_time": "2024-12-10T06:05:45.360444Z",
     "start_time": "2024-12-10T06:05:44.970876Z"
    }
   },
   "cell_type": "code",
   "source": [
    "print(f'INICIANDO VALIDAÇÃO...')\n",
    "start_evaluation = time.time()\n",
    "model.evaluate(X_test, y_test)\n",
    "print(f'FINALIZANDO VALIDAÇÃO...')\n",
    "end_evaluation = time.time()\n",
    "\n",
    "print(model.rmse_test_error)\n",
    "print(model.mae_test_error)"
   ],
   "outputs": [
    {
     "name": "stdout",
     "output_type": "stream",
     "text": [
      "INICIANDO VALIDAÇÃO...\n",
      "FINALIZANDO VALIDAÇÃO...\n",
      "0.9201\n",
      "0.7089\n"
     ]
    }
   ],
   "execution_count": 36
  },
  {
   "metadata": {
    "ExecuteTime": {
     "end_time": "2024-12-10T06:05:45.375608Z",
     "start_time": "2024-12-10T06:05:45.369733Z"
    }
   },
   "cell_type": "code",
   "source": "end_trainning - start_trainning",
   "outputs": [
    {
     "data": {
      "text/plain": [
       "79.60581755638123"
      ]
     },
     "execution_count": 37,
     "metadata": {},
     "output_type": "execute_result"
    }
   ],
   "execution_count": 37
  },
  {
   "metadata": {
    "ExecuteTime": {
     "end_time": "2024-12-10T06:05:45.505604Z",
     "start_time": "2024-12-10T06:05:45.500047Z"
    }
   },
   "cell_type": "code",
   "source": "model.rmse_train_errors",
   "outputs": [
    {
     "data": {
      "text/plain": [
       "shape: (10, 2)\n",
       "┌────────┬───────────┐\n",
       "│ rmse   ┆ iteration │\n",
       "│ ---    ┆ ---       │\n",
       "│ f64    ┆ i64       │\n",
       "╞════════╪═══════════╡\n",
       "│ 1.0375 ┆ 1         │\n",
       "│ 0.9759 ┆ 2         │\n",
       "│ 0.9524 ┆ 3         │\n",
       "│ 0.9384 ┆ 4         │\n",
       "│ 0.9285 ┆ 5         │\n",
       "│ 0.9209 ┆ 6         │\n",
       "│ 0.9146 ┆ 7         │\n",
       "│ 0.9093 ┆ 8         │\n",
       "│ 0.9047 ┆ 9         │\n",
       "│ 0.9007 ┆ 10        │\n",
       "└────────┴───────────┘"
      ],
      "text/html": [
       "<div><style>\n",
       ".dataframe > thead > tr,\n",
       ".dataframe > tbody > tr {\n",
       "  text-align: right;\n",
       "  white-space: pre-wrap;\n",
       "}\n",
       "</style>\n",
       "<small>shape: (10, 2)</small><table border=\"1\" class=\"dataframe\"><thead><tr><th>rmse</th><th>iteration</th></tr><tr><td>f64</td><td>i64</td></tr></thead><tbody><tr><td>1.0375</td><td>1</td></tr><tr><td>0.9759</td><td>2</td></tr><tr><td>0.9524</td><td>3</td></tr><tr><td>0.9384</td><td>4</td></tr><tr><td>0.9285</td><td>5</td></tr><tr><td>0.9209</td><td>6</td></tr><tr><td>0.9146</td><td>7</td></tr><tr><td>0.9093</td><td>8</td></tr><tr><td>0.9047</td><td>9</td></tr><tr><td>0.9007</td><td>10</td></tr></tbody></table></div>"
      ]
     },
     "execution_count": 38,
     "metadata": {},
     "output_type": "execute_result"
    }
   ],
   "execution_count": 38
  },
  {
   "metadata": {
    "ExecuteTime": {
     "end_time": "2024-12-10T06:05:45.682938Z",
     "start_time": "2024-12-10T06:05:45.566438Z"
    }
   },
   "cell_type": "code",
   "source": [
    "import matplotlib.pyplot as plt\n",
    "\n",
    "iterations_list = model.rmse_train_errors[\"iteration\"].to_list()\n",
    "rmse_list = model.rmse_train_errors[\"rmse\"].to_list()\n",
    "\n",
    "plt.style.use('default')\n",
    "plt.plot(iterations_list, rmse_list, marker='.', linestyle='-', color='b', label='RMSE')\n",
    "plt.xlabel(\"ITERAÇÃO\")\n",
    "plt.ylabel(\"RMSE\")\n",
    "plt.title(\"RMSE no treinamento\")\n",
    "plt.grid(False)\n",
    "plt.legend()\n",
    "plt.show()"
   ],
   "outputs": [
    {
     "data": {
      "text/plain": [
       "<Figure size 640x480 with 1 Axes>"
      ],
      "image/png": "[encoded data removed]"
     },
     "metadata": {},
     "output_type": "display_data"
    }
   ],
   "execution_count": 39
  },
  {
   "metadata": {
    "ExecuteTime": {
     "end_time": "2024-12-10T06:05:45.832354Z",
     "start_time": "2024-12-10T06:05:45.737320Z"
    }
   },
   "cell_type": "code",
   "source": [
    "import matplotlib.pyplot as plt\n",
    "\n",
    "iterations_list = model.mae_train_errors[\"iteration\"].to_list()\n",
    "mae_list = model.mae_train_errors[\"mae\"].to_list()\n",
    "\n",
    "plt.style.use('default')\n",
    "plt.plot(iterations_list, mae_list, marker='.', linestyle='-', color='b', label='MAE')\n",
    "plt.xlabel(\"ITERAÇÃO\")\n",
    "plt.ylabel(\"MAE\")\n",
    "plt.title(\"MAE no treinamento\")\n",
    "plt.grid(False)\n",
    "plt.legend()\n",
    "plt.show()"
   ],
   "outputs": [
    {
     "data": {
      "text/plain": [
       "<Figure size 640x480 with 1 Axes>"
      ],
      "image/png": "[encoded data removed]"
     },
     "metadata": {},
     "output_type": "display_data"
    }
   ],
   "execution_count": 40
  }
 ]
}
