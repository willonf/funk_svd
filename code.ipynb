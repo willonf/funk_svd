{
 "cells": [
  {
   "cell_type": "code",
   "metadata": {
    "id": "E_AlhQl14QYv",
    "ExecuteTime": {
     "end_time": "2024-12-08T16:32:56.168933Z",
     "start_time": "2024-12-08T16:32:55.850935Z"
    }
   },
   "source": [
    "import polars as pl\n",
    "import numpy as np\n",
    "import seaborn as sns\n",
    "from sklearn.model_selection import train_test_split\n",
    "import math"
   ],
   "outputs": [],
   "execution_count": 1
  },
  {
   "cell_type": "code",
   "metadata": {
    "id": "g8hw2ViN4Rr1",
    "ExecuteTime": {
     "end_time": "2024-12-08T16:32:56.236435Z",
     "start_time": "2024-12-08T16:32:56.207885Z"
    }
   },
   "source": [
    "df_movies = pl.read_csv('./movies.csv')\n",
    "df_ratings = pl.read_csv('./ratings.csv')"
   ],
   "outputs": [],
   "execution_count": 2
  },
  {
   "cell_type": "code",
   "metadata": {
    "id": "U_B1cjOH64ew",
    "ExecuteTime": {
     "end_time": "2024-12-08T16:32:56.262731Z",
     "start_time": "2024-12-08T16:32:56.255441Z"
    }
   },
   "source": [
    "df_ratings = df_ratings.drop('timestamp')"
   ],
   "outputs": [],
   "execution_count": 3
  },
  {
   "cell_type": "code",
   "metadata": {
    "id": "VBuMzesjz9go",
    "ExecuteTime": {
     "end_time": "2024-12-08T16:32:56.702042Z",
     "start_time": "2024-12-08T16:32:56.694867Z"
    }
   },
   "source": [
    "df_ratings = df_ratings.sort('userId')"
   ],
   "outputs": [],
   "execution_count": 4
  },
  {
   "cell_type": "code",
   "metadata": {
    "colab": {
     "base_uri": "https://localhost:8080/"
    },
    "executionInfo": {
     "elapsed": 10,
     "status": "ok",
     "timestamp": 1733628709069,
     "user": {
      "displayName": "Willon Ferreira",
      "userId": "17540134981984048219"
     },
     "user_tz": 240
    },
    "id": "ahJhkt1T-a7a",
    "outputId": "11477521-681f-4cfe-edb3-adb5898ed0e8",
    "ExecuteTime": {
     "end_time": "2024-12-08T16:32:56.732138Z",
     "start_time": "2024-12-08T16:32:56.725277Z"
    }
   },
   "source": [
    "df_ratings.schema"
   ],
   "outputs": [
    {
     "data": {
      "text/plain": [
       "Schema([('userId', Int64), ('movieId', Int64), ('rating', Float64)])"
      ]
     },
     "execution_count": 5,
     "metadata": {},
     "output_type": "execute_result"
    }
   ],
   "execution_count": 5
  },
  {
   "cell_type": "code",
   "metadata": {
    "colab": {
     "base_uri": "https://localhost:8080/",
     "height": 255
    },
    "executionInfo": {
     "elapsed": 10,
     "status": "ok",
     "timestamp": 1733628709070,
     "user": {
      "displayName": "Willon Ferreira",
      "userId": "17540134981984048219"
     },
     "user_tz": 240
    },
    "id": "PQWUeAO-GQfL",
    "outputId": "00e1c0ae-e740-4b21-d6d4-510be6ffceec",
    "ExecuteTime": {
     "end_time": "2024-12-08T16:33:23.223723Z",
     "start_time": "2024-12-08T16:33:23.204175Z"
    }
   },
   "source": [
    "df_ratings.head(5)"
   ],
   "outputs": [
    {
     "data": {
      "text/plain": [
       "shape: (5, 3)\n",
       "┌────────┬─────────┬────────┐\n",
       "│ userId ┆ movieId ┆ rating │\n",
       "│ ---    ┆ ---     ┆ ---    │\n",
       "│ i64    ┆ i64     ┆ f64    │\n",
       "╞════════╪═════════╪════════╡\n",
       "│ 1      ┆ 1       ┆ 4.0    │\n",
       "│ 1      ┆ 3       ┆ 4.0    │\n",
       "│ 1      ┆ 6       ┆ 4.0    │\n",
       "│ 1      ┆ 47      ┆ 5.0    │\n",
       "│ 1      ┆ 50      ┆ 5.0    │\n",
       "└────────┴─────────┴────────┘"
      ],
      "text/html": [
       "<div><style>\n",
       ".dataframe > thead > tr,\n",
       ".dataframe > tbody > tr {\n",
       "  text-align: right;\n",
       "  white-space: pre-wrap;\n",
       "}\n",
       "</style>\n",
       "<small>shape: (5, 3)</small><table border=\"1\" class=\"dataframe\"><thead><tr><th>userId</th><th>movieId</th><th>rating</th></tr><tr><td>i64</td><td>i64</td><td>f64</td></tr></thead><tbody><tr><td>1</td><td>1</td><td>4.0</td></tr><tr><td>1</td><td>3</td><td>4.0</td></tr><tr><td>1</td><td>6</td><td>4.0</td></tr><tr><td>1</td><td>47</td><td>5.0</td></tr><tr><td>1</td><td>50</td><td>5.0</td></tr></tbody></table></div>"
      ]
     },
     "execution_count": 6,
     "metadata": {},
     "output_type": "execute_result"
    }
   ],
   "execution_count": 6
  },
  {
   "cell_type": "code",
   "metadata": {
    "colab": {
     "base_uri": "https://localhost:8080/",
     "height": 255
    },
    "executionInfo": {
     "elapsed": 8,
     "status": "ok",
     "timestamp": 1733628709070,
     "user": {
      "displayName": "Willon Ferreira",
      "userId": "17540134981984048219"
     },
     "user_tz": 240
    },
    "id": "-qDuXVaw9Qva",
    "outputId": "2f055b10-0b00-42e3-8ab4-25ee58b6cc91",
    "ExecuteTime": {
     "end_time": "2024-12-08T16:33:25.421665Z",
     "start_time": "2024-12-08T16:33:25.405048Z"
    }
   },
   "source": [
    "df_ratings.tail()"
   ],
   "outputs": [
    {
     "data": {
      "text/plain": [
       "shape: (5, 3)\n",
       "┌────────┬─────────┬────────┐\n",
       "│ userId ┆ movieId ┆ rating │\n",
       "│ ---    ┆ ---     ┆ ---    │\n",
       "│ i64    ┆ i64     ┆ f64    │\n",
       "╞════════╪═════════╪════════╡\n",
       "│ 610    ┆ 166534  ┆ 4.0    │\n",
       "│ 610    ┆ 168248  ┆ 5.0    │\n",
       "│ 610    ┆ 168250  ┆ 5.0    │\n",
       "│ 610    ┆ 168252  ┆ 5.0    │\n",
       "│ 610    ┆ 170875  ┆ 3.0    │\n",
       "└────────┴─────────┴────────┘"
      ],
      "text/html": [
       "<div><style>\n",
       ".dataframe > thead > tr,\n",
       ".dataframe > tbody > tr {\n",
       "  text-align: right;\n",
       "  white-space: pre-wrap;\n",
       "}\n",
       "</style>\n",
       "<small>shape: (5, 3)</small><table border=\"1\" class=\"dataframe\"><thead><tr><th>userId</th><th>movieId</th><th>rating</th></tr><tr><td>i64</td><td>i64</td><td>f64</td></tr></thead><tbody><tr><td>610</td><td>166534</td><td>4.0</td></tr><tr><td>610</td><td>168248</td><td>5.0</td></tr><tr><td>610</td><td>168250</td><td>5.0</td></tr><tr><td>610</td><td>168252</td><td>5.0</td></tr><tr><td>610</td><td>170875</td><td>3.0</td></tr></tbody></table></div>"
      ]
     },
     "execution_count": 7,
     "metadata": {},
     "output_type": "execute_result"
    }
   ],
   "execution_count": 7
  },
  {
   "cell_type": "code",
   "metadata": {
    "colab": {
     "base_uri": "https://localhost:8080/",
     "height": 380
    },
    "executionInfo": {
     "elapsed": 2520,
     "status": "ok",
     "timestamp": 1733628711583,
     "user": {
      "displayName": "Willon Ferreira",
      "userId": "17540134981984048219"
     },
     "user_tz": 240
    },
    "id": "NEfTEieUGQC9",
    "outputId": "8a9612f6-bd63-4899-e288-a31b1c77af64",
    "ExecuteTime": {
     "end_time": "2024-12-08T16:33:27.504276Z",
     "start_time": "2024-12-08T16:33:27.491353Z"
    }
   },
   "source": [
    "df_ratings.describe()"
   ],
   "outputs": [
    {
     "data": {
      "text/plain": [
       "shape: (9, 4)\n",
       "┌────────────┬────────────┬──────────────┬──────────┐\n",
       "│ statistic  ┆ userId     ┆ movieId      ┆ rating   │\n",
       "│ ---        ┆ ---        ┆ ---          ┆ ---      │\n",
       "│ str        ┆ f64        ┆ f64          ┆ f64      │\n",
       "╞════════════╪════════════╪══════════════╪══════════╡\n",
       "│ count      ┆ 100836.0   ┆ 100836.0     ┆ 100836.0 │\n",
       "│ null_count ┆ 0.0        ┆ 0.0          ┆ 0.0      │\n",
       "│ mean       ┆ 326.127564 ┆ 19435.295718 ┆ 3.501557 │\n",
       "│ std        ┆ 182.618491 ┆ 35530.987199 ┆ 1.042529 │\n",
       "│ min        ┆ 1.0        ┆ 1.0          ┆ 0.5      │\n",
       "│ 25%        ┆ 177.0      ┆ 1199.0       ┆ 3.0      │\n",
       "│ 50%        ┆ 325.0      ┆ 2991.0       ┆ 3.5      │\n",
       "│ 75%        ┆ 477.0      ┆ 8121.0       ┆ 4.0      │\n",
       "│ max        ┆ 610.0      ┆ 193609.0     ┆ 5.0      │\n",
       "└────────────┴────────────┴──────────────┴──────────┘"
      ],
      "text/html": [
       "<div><style>\n",
       ".dataframe > thead > tr,\n",
       ".dataframe > tbody > tr {\n",
       "  text-align: right;\n",
       "  white-space: pre-wrap;\n",
       "}\n",
       "</style>\n",
       "<small>shape: (9, 4)</small><table border=\"1\" class=\"dataframe\"><thead><tr><th>statistic</th><th>userId</th><th>movieId</th><th>rating</th></tr><tr><td>str</td><td>f64</td><td>f64</td><td>f64</td></tr></thead><tbody><tr><td>&quot;count&quot;</td><td>100836.0</td><td>100836.0</td><td>100836.0</td></tr><tr><td>&quot;null_count&quot;</td><td>0.0</td><td>0.0</td><td>0.0</td></tr><tr><td>&quot;mean&quot;</td><td>326.127564</td><td>19435.295718</td><td>3.501557</td></tr><tr><td>&quot;std&quot;</td><td>182.618491</td><td>35530.987199</td><td>1.042529</td></tr><tr><td>&quot;min&quot;</td><td>1.0</td><td>1.0</td><td>0.5</td></tr><tr><td>&quot;25%&quot;</td><td>177.0</td><td>1199.0</td><td>3.0</td></tr><tr><td>&quot;50%&quot;</td><td>325.0</td><td>2991.0</td><td>3.5</td></tr><tr><td>&quot;75%&quot;</td><td>477.0</td><td>8121.0</td><td>4.0</td></tr><tr><td>&quot;max&quot;</td><td>610.0</td><td>193609.0</td><td>5.0</td></tr></tbody></table></div>"
      ]
     },
     "execution_count": 8,
     "metadata": {},
     "output_type": "execute_result"
    }
   ],
   "execution_count": 8
  },
  {
   "cell_type": "code",
   "metadata": {
    "id": "friZ97ScClag",
    "ExecuteTime": {
     "end_time": "2024-12-08T16:33:30.257161Z",
     "start_time": "2024-12-08T16:33:30.105131Z"
    }
   },
   "source": [
    "users = df_ratings.select('userId').sort('userId').unique()\n",
    "itens = df_ratings.select('movieId').sort('movieId').unique()"
   ],
   "outputs": [],
   "execution_count": 9
  },
  {
   "cell_type": "code",
   "metadata": {
    "id": "4Ss_lK4LLCHx",
    "ExecuteTime": {
     "end_time": "2024-12-08T16:34:47.115926Z",
     "start_time": "2024-12-08T16:34:47.111860Z"
    }
   },
   "source": [
    "class FunkSVDModelResult:\n",
    "  def __init__(self, global_mean, users_bias, items_bias, P_matrix, Q_matrix, errors, iterations, sq_errors):\n",
    "    self.global_mean = global_mean\n",
    "    self.users_bias = users_bias\n",
    "    self.items_bias = items_bias\n",
    "    self.P_matrix = P_matrix\n",
    "    self.Q_matrix = Q_matrix\n",
    "    errors_array = np.array([errors, list(range(1, iterations+1))])\n",
    "    self.sq_errors = sq_errors\n",
    "    self.errors = pl.DataFrame(errors_array, schema=[(\"error\", pl.Float64), (\"iteration\", pl.Int64)], orient=\"col\")\n",
    "\n",
    "  def predict(self, user_id, item_id):\n",
    "    return round(self.global_mean + self.users_bias[user_id] + self.items_bias[item_id] + np.dot(self.P_matrix[user_id], self.Q_matrix[item_id]), 2)\n"
   ],
   "outputs": [],
   "execution_count": 16
  },
  {
   "cell_type": "code",
   "metadata": {
    "id": "C7fXj-fC_fTe",
    "ExecuteTime": {
     "end_time": "2024-12-08T16:34:48.973689Z",
     "start_time": "2024-12-08T16:34:48.965161Z"
    }
   },
   "source": [
    "def funk_svd(rating_matrix, k, learning_rate=0.05, regulation=0.02, iterations=10):\n",
    "  rating_n_rows = rating_matrix.shape[0]\n",
    "\n",
    "  global_mean = rating_matrix.select('rating').mean()['rating'][0]\n",
    "\n",
    "  n_users = rating_matrix.select('userId').max().rows()[0][0]\n",
    "  n_items = rating_matrix.select('movieId').max().rows()[0][0]\n",
    "\n",
    "  users_bias = np.zeros(shape=n_users)\n",
    "  items_bias = np.zeros(shape=n_items)\n",
    "\n",
    "  P_matrix = np.full(shape=(n_users, k), fill_value=0.1, dtype=np.float64)\n",
    "  Q_matrix = np.full(shape=(n_items, k), fill_value=0.1, dtype=np.float64)\n",
    "\n",
    "  errors = list()\n",
    "  sq_errors = list()\n",
    "\n",
    "  for n_iteration in range(iterations):\n",
    "    sq_error = 0\n",
    "    for r_matrix_row in range(rating_n_rows):\n",
    "\n",
    "      user = rating_matrix[r_matrix_row].select('userId').rows()[0][0] - 1\n",
    "      item = rating_matrix[r_matrix_row].select('movieId').rows()[0][0] - 1\n",
    "      real_r = rating_matrix[r_matrix_row].select('rating').rows()[0][0]\n",
    "\n",
    "      pred_r = global_mean + users_bias[user] + items_bias[item] + np.dot(P_matrix[user], Q_matrix[item])\n",
    "      error_ui = real_r - pred_r\n",
    "      sq_error = sq_error + error_ui**2\n",
    "      sq_errors.append(sq_error)\n",
    "\n",
    "      users_bias[user] = users_bias[user] + learning_rate*(error_ui - regulation*users_bias[user])\n",
    "      items_bias[item] = items_bias[item] + learning_rate*(error_ui - regulation*items_bias[item])\n",
    "\n",
    "      for factor in range(k):\n",
    "        temp_uf = P_matrix[user, factor]\n",
    "        P_matrix[user, factor] = P_matrix[user, factor] + learning_rate*(error_ui*Q_matrix[item, factor] - regulation*P_matrix[user, factor])\n",
    "        Q_matrix[item, factor] = Q_matrix[item, factor] + learning_rate*(error_ui*temp_uf - regulation*Q_matrix[item, factor])\n",
    "    errors.append(math.sqrt(sq_error/rating_n_rows))  # RMSE\n",
    "\n",
    "  return FunkSVDModelResult(global_mean, users_bias, items_bias, P_matrix, Q_matrix, errors, iterations, sq_errors)\n"
   ],
   "outputs": [],
   "execution_count": 17
  },
  {
   "cell_type": "code",
   "metadata": {
    "id": "17n40Gd_4ukr",
    "ExecuteTime": {
     "end_time": "2024-12-08T16:34:00.202428Z",
     "start_time": "2024-12-08T16:34:00.178405Z"
    }
   },
   "source": [
    "# sample = df_ratings.group_by(\"userId\").agg([\n",
    "#     pl.col(\"movieId\").first().alias(\"movieId\"),\n",
    "#     pl.col(\"rating\").first().alias(\"rating\")\n",
    "# ])[:400]\n",
    "X = df_ratings.select(['userId', 'movieId'])\n",
    "y = df_ratings.select('rating')\n",
    "X_train, X_test, y_train, y_test = train_test_split(X, y, test_size=0.2, random_state=42)"
   ],
   "outputs": [],
   "execution_count": 14
  },
  {
   "cell_type": "code",
   "execution_count": 70,
   "metadata": {
    "colab": {
     "base_uri": "https://localhost:8080/"
    },
    "executionInfo": {
     "elapsed": 297,
     "status": "ok",
     "timestamp": 1733629055383,
     "user": {
      "displayName": "Willon Ferreira",
      "userId": "17540134981984048219"
     },
     "user_tz": 240
    },
    "id": "An3QjS0HPH5l",
    "outputId": "02215a09-8c00-48cb-90fd-da1b1d946720"
   },
   "outputs": [],
   "source": "model = funk_svd(sample, iterations=20, k=40, learning_rate=0.001, regulation=0.02)"
  },
  {
   "cell_type": "code",
   "execution_count": 59,
   "metadata": {
    "id": "1mzE0If3IuPz"
   },
   "outputs": [
    {
     "data": {
      "text/plain": [
       "np.float64(4.0)"
      ]
     },
     "execution_count": 59,
     "metadata": {},
     "output_type": "execute_result"
    }
   ],
   "source": [
    "model.predict(user_id=1, item_id=3)"
   ]
  }
 ],
 "metadata": {
  "colab": {
   "authorship_tag": "ABX9TyO7SfYcJe6yjCgqpwQOGALe",
   "provenance": []
  },
  "kernelspec": {
   "display_name": "funk_svd",
   "language": "python",
   "name": "python3"
  },
  "language_info": {
   "codemirror_mode": {
    "name": "ipython",
    "version": 3
   },
   "file_extension": ".py",
   "mimetype": "text/x-python",
   "name": "python",
   "nbconvert_exporter": "python",
   "pygments_lexer": "ipython3",
   "version": "3.12.7"
  }
 },
 "nbformat": 4,
 "nbformat_minor": 0
}
