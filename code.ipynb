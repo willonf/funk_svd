{
 "nbformat": 4,
 "nbformat_minor": 0,
 "metadata": {
  "colab": {
   "provenance": [],
   "authorship_tag": "ABX9TyO7SfYcJe6yjCgqpwQOGALe"
  },
  "kernelspec": {
   "name": "python3",
   "display_name": "Python 3 (ipykernel)",
   "language": "python"
  },
  "language_info": {
   "name": "python"
  }
 },
 "cells": [
  {
   "metadata": {
    "ExecuteTime": {
     "end_time": "2024-12-09T04:17:21.785267Z",
     "start_time": "2024-12-09T04:17:21.176209Z"
    }
   },
   "cell_type": "code",
   "source": [
    "import math\n",
    "import time\n",
    "\n",
    "import numpy as np\n",
    "import polars as pl\n",
    "from numpy.ma.core import round_\n",
    "from sklearn.model_selection import train_test_split\n",
    "import seaborn as sns"
   ],
   "outputs": [],
   "execution_count": 14
  },
  {
   "metadata": {
    "ExecuteTime": {
     "end_time": "2024-12-09T03:55:10.972901Z",
     "start_time": "2024-12-09T03:55:10.952101Z"
    }
   },
   "cell_type": "code",
   "source": [
    "class FunkSVD:\n",
    "    def __init__(self, k=40, learning_rate=0.001, regulation=0.02, iterations=10):\n",
    "        self.k = k\n",
    "        self.learning_rate = learning_rate\n",
    "        self.regulation = regulation\n",
    "        self.iterations = iterations\n",
    "\n",
    "        self.global_mean = None\n",
    "        self.users_bias = None\n",
    "        self.items_bias = None\n",
    "        self.P_matrix = None\n",
    "        self.Q_matrix = None\n",
    "\n",
    "        # RMSE\n",
    "        self.rmse_train_errors = None\n",
    "        self.rmse_test_error = None\n",
    "\n",
    "        # MAE\n",
    "        self.mae_train_errors = None\n",
    "        self.mae_test_error = None\n",
    "\n",
    "    def fit(self, X_user_item, y_rating):\n",
    "        rating_n_rows = y_rating.shape[0]\n",
    "\n",
    "        self.global_mean = y_rating.select('rating').mean()['rating'][0]\n",
    "\n",
    "        n_users = X_user_item.select('userId').max().rows()[0][0]\n",
    "        n_items = X_user_item.select('movieId').max().rows()[0][0]\n",
    "\n",
    "        self.users_bias = np.zeros(shape=n_users)\n",
    "        self.items_bias = np.zeros(shape=n_items)\n",
    "\n",
    "        self.P_matrix = np.full(shape=(n_users, self.k), fill_value=0.1, dtype=np.float64)\n",
    "        self.Q_matrix = np.full(shape=(n_items, self.k), fill_value=0.1, dtype=np.float64)\n",
    "\n",
    "        _rmse_train_errors = np.zeros(shape=self.iterations)\n",
    "        _mae_train_errors = np.zeros(shape=self.iterations)\n",
    "\n",
    "        for n_iteration in range(self.iterations):\n",
    "            print(f'TRAINING - ITERAÇÃO: {n_iteration}')\n",
    "            sq_error = 0\n",
    "            mae_error = 0\n",
    "            for r_matrix_row in range(rating_n_rows):\n",
    "\n",
    "                user = X_user_item[r_matrix_row].select('userId').rows()[0][0] - 1\n",
    "                item = X_user_item[r_matrix_row].select('movieId').rows()[0][0] - 1\n",
    "                real_r = y_rating[r_matrix_row].select('rating').rows()[0][0]\n",
    "\n",
    "                pred_r = self.global_mean + self.users_bias[user] + self.items_bias[item] + np.dot(self.P_matrix[user], self.Q_matrix[item])\n",
    "                error_ui = real_r - pred_r\n",
    "                sq_error = sq_error + error_ui ** 2\n",
    "                mae_error = mae_error + abs(error_ui)\n",
    "\n",
    "                self.users_bias[user] = self.users_bias[user] + self.learning_rate * (error_ui - self.regulation * self.users_bias[user])\n",
    "                self.items_bias[item] = self.items_bias[item] + self.learning_rate * (error_ui - self.regulation * self.items_bias[item])\n",
    "\n",
    "                for factor in range(self.k):\n",
    "                    temp_uf = self.P_matrix[user, factor]\n",
    "                    self.P_matrix[user, factor] = self.P_matrix[user, factor] + self.learning_rate * (error_ui * self.Q_matrix[item, factor] - self.regulation * self.P_matrix[user, factor])\n",
    "                    self.Q_matrix[item, factor] = self.Q_matrix[item, factor] + self.learning_rate * (error_ui * temp_uf - self.regulation * self.Q_matrix[item, factor])\n",
    "            _rmse_train_errors[n_iteration] = round_(math.sqrt(sq_error / rating_n_rows), 2)  # RMSE\n",
    "            _mae_train_errors[n_iteration] = round_(sq_error / rating_n_rows, 2)  # MAE\n",
    "            print(f'TRAINING - RMSE: {round_(math.sqrt(sq_error / rating_n_rows), 2)} - MAE: {round_(sq_error / rating_n_rows, 2)}')\n",
    "\n",
    "        self.rmse_train_errors = pl.DataFrame(np.array([_rmse_train_errors, list(range(1, self.iterations + 1))]), schema=[(\"rmse\", pl.Float64), (\"iteration\", pl.Int64)], orient=\"col\")\n",
    "        self.mae_train_errors = pl.DataFrame(np.array([_mae_train_errors, list(range(1, self.iterations + 1))]), schema=[(\"mae\", pl.Float64), (\"iteration\", pl.Int64)], orient=\"col\")\n",
    "\n",
    "        self.rmse_train_errors.write_csv('./_rmse_train_errors.csv')\n",
    "        self.mae_train_errors.write_csv('./_mae_train_errors.csv')\n",
    "\n",
    "    def predict_rating(self, user_id, item_id):\n",
    "        return round(self.global_mean + self.users_bias[user_id - 1] + self.items_bias[item_id - 1] + np.dot(self.P_matrix[user_id - 1], self.Q_matrix[item_id - 1]), 2)\n",
    "\n",
    "    def evaluate(self, X_user_item, y_rating):\n",
    "        rating_n_rows = X_user_item.shape[0]\n",
    "        sq_error = 0\n",
    "        mae_error = 0\n",
    "\n",
    "        for row_index in range(rating_n_rows):\n",
    "            user_id = X_user_item[row_index].rows()[0][0]\n",
    "            item_id = X_user_item[row_index].rows()[0][1]\n",
    "            real_rating = y_rating[row_index].rows()[0][0]\n",
    "            predicted_rating = self.predict_rating(user_id, item_id)\n",
    "\n",
    "            error_ui = real_rating - predicted_rating\n",
    "            sq_error = sq_error + error_ui ** 2\n",
    "            mae_error = mae_error + abs(error_ui)\n",
    "\n",
    "        self.rmse_test_error = round(math.sqrt(sq_error / rating_n_rows), 2)\n",
    "        self.mae_test_error = round(mae_error / rating_n_rows)"
   ],
   "outputs": [],
   "execution_count": 5
  },
  {
   "metadata": {
    "ExecuteTime": {
     "end_time": "2024-12-09T04:12:18.301560Z",
     "start_time": "2024-12-09T04:12:18.276304Z"
    }
   },
   "cell_type": "code",
   "source": [
    "df_movies = pl.read_csv('./movies.csv')\n",
    "df_ratings = pl.read_csv('./ratings.csv')\n",
    "df_ratings = df_ratings.drop('timestamp')\n",
    "df_ratings = df_ratings.sort('userId')"
   ],
   "outputs": [],
   "execution_count": 6
  },
  {
   "metadata": {
    "ExecuteTime": {
     "end_time": "2024-12-09T04:12:19.981698Z",
     "start_time": "2024-12-09T04:12:19.967156Z"
    }
   },
   "cell_type": "code",
   "source": "df_ratings.head(5)",
   "outputs": [
    {
     "data": {
      "text/plain": [
       "shape: (5, 3)\n",
       "┌────────┬─────────┬────────┐\n",
       "│ userId ┆ movieId ┆ rating │\n",
       "│ ---    ┆ ---     ┆ ---    │\n",
       "│ i64    ┆ i64     ┆ f64    │\n",
       "╞════════╪═════════╪════════╡\n",
       "│ 1      ┆ 1       ┆ 4.0    │\n",
       "│ 1      ┆ 3       ┆ 4.0    │\n",
       "│ 1      ┆ 6       ┆ 4.0    │\n",
       "│ 1      ┆ 47      ┆ 5.0    │\n",
       "│ 1      ┆ 50      ┆ 5.0    │\n",
       "└────────┴─────────┴────────┘"
      ],
      "text/html": [
       "<div><style>\n",
       ".dataframe > thead > tr,\n",
       ".dataframe > tbody > tr {\n",
       "  text-align: right;\n",
       "  white-space: pre-wrap;\n",
       "}\n",
       "</style>\n",
       "<small>shape: (5, 3)</small><table border=\"1\" class=\"dataframe\"><thead><tr><th>userId</th><th>movieId</th><th>rating</th></tr><tr><td>i64</td><td>i64</td><td>f64</td></tr></thead><tbody><tr><td>1</td><td>1</td><td>4.0</td></tr><tr><td>1</td><td>3</td><td>4.0</td></tr><tr><td>1</td><td>6</td><td>4.0</td></tr><tr><td>1</td><td>47</td><td>5.0</td></tr><tr><td>1</td><td>50</td><td>5.0</td></tr></tbody></table></div>"
      ]
     },
     "execution_count": 7,
     "metadata": {},
     "output_type": "execute_result"
    }
   ],
   "execution_count": 7
  },
  {
   "metadata": {
    "ExecuteTime": {
     "end_time": "2024-12-09T04:12:21.748926Z",
     "start_time": "2024-12-09T04:12:21.720402Z"
    }
   },
   "cell_type": "code",
   "source": "df_ratings.describe()",
   "outputs": [
    {
     "data": {
      "text/plain": [
       "shape: (9, 4)\n",
       "┌────────────┬────────────┬──────────────┬──────────┐\n",
       "│ statistic  ┆ userId     ┆ movieId      ┆ rating   │\n",
       "│ ---        ┆ ---        ┆ ---          ┆ ---      │\n",
       "│ str        ┆ f64        ┆ f64          ┆ f64      │\n",
       "╞════════════╪════════════╪══════════════╪══════════╡\n",
       "│ count      ┆ 100836.0   ┆ 100836.0     ┆ 100836.0 │\n",
       "│ null_count ┆ 0.0        ┆ 0.0          ┆ 0.0      │\n",
       "│ mean       ┆ 326.127564 ┆ 19435.295718 ┆ 3.501557 │\n",
       "│ std        ┆ 182.618491 ┆ 35530.987199 ┆ 1.042529 │\n",
       "│ min        ┆ 1.0        ┆ 1.0          ┆ 0.5      │\n",
       "│ 25%        ┆ 177.0      ┆ 1199.0       ┆ 3.0      │\n",
       "│ 50%        ┆ 325.0      ┆ 2991.0       ┆ 3.5      │\n",
       "│ 75%        ┆ 477.0      ┆ 8121.0       ┆ 4.0      │\n",
       "│ max        ┆ 610.0      ┆ 193609.0     ┆ 5.0      │\n",
       "└────────────┴────────────┴──────────────┴──────────┘"
      ],
      "text/html": [
       "<div><style>\n",
       ".dataframe > thead > tr,\n",
       ".dataframe > tbody > tr {\n",
       "  text-align: right;\n",
       "  white-space: pre-wrap;\n",
       "}\n",
       "</style>\n",
       "<small>shape: (9, 4)</small><table border=\"1\" class=\"dataframe\"><thead><tr><th>statistic</th><th>userId</th><th>movieId</th><th>rating</th></tr><tr><td>str</td><td>f64</td><td>f64</td><td>f64</td></tr></thead><tbody><tr><td>&quot;count&quot;</td><td>100836.0</td><td>100836.0</td><td>100836.0</td></tr><tr><td>&quot;null_count&quot;</td><td>0.0</td><td>0.0</td><td>0.0</td></tr><tr><td>&quot;mean&quot;</td><td>326.127564</td><td>19435.295718</td><td>3.501557</td></tr><tr><td>&quot;std&quot;</td><td>182.618491</td><td>35530.987199</td><td>1.042529</td></tr><tr><td>&quot;min&quot;</td><td>1.0</td><td>1.0</td><td>0.5</td></tr><tr><td>&quot;25%&quot;</td><td>177.0</td><td>1199.0</td><td>3.0</td></tr><tr><td>&quot;50%&quot;</td><td>325.0</td><td>2991.0</td><td>3.5</td></tr><tr><td>&quot;75%&quot;</td><td>477.0</td><td>8121.0</td><td>4.0</td></tr><tr><td>&quot;max&quot;</td><td>610.0</td><td>193609.0</td><td>5.0</td></tr></tbody></table></div>"
      ]
     },
     "execution_count": 8,
     "metadata": {},
     "output_type": "execute_result"
    }
   ],
   "execution_count": 8
  },
  {
   "metadata": {
    "ExecuteTime": {
     "end_time": "2024-12-09T04:12:25.386163Z",
     "start_time": "2024-12-09T04:12:25.358239Z"
    }
   },
   "cell_type": "code",
   "source": [
    "X = df_ratings.select(['userId', 'movieId'])\n",
    "y = df_ratings.select('rating')\n",
    "X_train, X_test, y_train, y_test = train_test_split(X, y, random_state=42)\n",
    "\n",
    "model = FunkSVD()"
   ],
   "outputs": [],
   "execution_count": 9
  },
  {
   "metadata": {
    "ExecuteTime": {
     "end_time": "2024-12-09T04:14:06.311039Z",
     "start_time": "2024-12-09T04:12:39.479957Z"
    }
   },
   "cell_type": "code",
   "source": [
    "print(f'INICIANDO TREINAMENTO...')\n",
    "start_trainning = time.time()\n",
    "model.fit(X_train, y_train)\n",
    "print(f'FINALIZANDO TREINAMENTO...')\n",
    "end_trainning = time.time()"
   ],
   "outputs": [
    {
     "name": "stdout",
     "output_type": "stream",
     "text": [
      "INICIANDO TREINAMENTO...\n",
      "TRAINING - ITERAÇÃO: 0\n",
      "TRAINING - RMSE: 1.04 - MAE: 1.08\n",
      "TRAINING - ITERAÇÃO: 1\n",
      "TRAINING - RMSE: 0.98 - MAE: 0.95\n",
      "TRAINING - ITERAÇÃO: 2\n",
      "TRAINING - RMSE: 0.95 - MAE: 0.91\n",
      "TRAINING - ITERAÇÃO: 3\n",
      "TRAINING - RMSE: 0.94 - MAE: 0.88\n",
      "TRAINING - ITERAÇÃO: 4\n",
      "TRAINING - RMSE: 0.93 - MAE: 0.86\n",
      "TRAINING - ITERAÇÃO: 5\n",
      "TRAINING - RMSE: 0.92 - MAE: 0.85\n",
      "TRAINING - ITERAÇÃO: 6\n",
      "TRAINING - RMSE: 0.91 - MAE: 0.84\n",
      "TRAINING - ITERAÇÃO: 7\n",
      "TRAINING - RMSE: 0.91 - MAE: 0.83\n",
      "TRAINING - ITERAÇÃO: 8\n",
      "TRAINING - RMSE: 0.9 - MAE: 0.82\n",
      "TRAINING - ITERAÇÃO: 9\n",
      "TRAINING - RMSE: 0.9 - MAE: 0.81\n",
      "FINALIZANDO TREINAMENTO...\n"
     ]
    }
   ],
   "execution_count": 10
  },
  {
   "metadata": {
    "ExecuteTime": {
     "end_time": "2024-12-09T04:36:46.527422Z",
     "start_time": "2024-12-09T04:36:46.209541Z"
    }
   },
   "cell_type": "code",
   "source": [
    "print(f'INICIANDO VALIDAÇÃO...')\n",
    "start_evaluation = time.time()\n",
    "model.evaluate(X_test, y_test)\n",
    "print(f'FINALIZANDO VALIDAÇÃO...')\n",
    "end_evaluation = time.time()\n",
    "\n",
    "print(model.rmse_test_error)\n",
    "print(model.mae_test_error)"
   ],
   "outputs": [
    {
     "name": "stdout",
     "output_type": "stream",
     "text": [
      "INICIANDO VALIDAÇÃO...\n",
      "FINALIZANDO VALIDAÇÃO...\n",
      "0.92\n",
      "1\n"
     ]
    }
   ],
   "execution_count": 43
  },
  {
   "metadata": {
    "ExecuteTime": {
     "end_time": "2024-12-09T04:16:10.608249Z",
     "start_time": "2024-12-09T04:16:10.602895Z"
    }
   },
   "cell_type": "code",
   "source": "end_trainning - start_trainning",
   "outputs": [
    {
     "data": {
      "text/plain": [
       "86.82442164421082"
      ]
     },
     "execution_count": 13,
     "metadata": {},
     "output_type": "execute_result"
    }
   ],
   "execution_count": 13
  },
  {
   "metadata": {
    "ExecuteTime": {
     "end_time": "2024-12-09T04:21:12.048007Z",
     "start_time": "2024-12-09T04:21:12.034145Z"
    }
   },
   "cell_type": "code",
   "source": "model.rmse_train_errors",
   "outputs": [
    {
     "data": {
      "text/plain": [
       "shape: (10, 2)\n",
       "┌──────┬───────────┐\n",
       "│ rmse ┆ iteration │\n",
       "│ ---  ┆ ---       │\n",
       "│ f64  ┆ i64       │\n",
       "╞══════╪═══════════╡\n",
       "│ 1.04 ┆ 1         │\n",
       "│ 0.98 ┆ 2         │\n",
       "│ 0.95 ┆ 3         │\n",
       "│ 0.94 ┆ 4         │\n",
       "│ 0.93 ┆ 5         │\n",
       "│ 0.92 ┆ 6         │\n",
       "│ 0.91 ┆ 7         │\n",
       "│ 0.91 ┆ 8         │\n",
       "│ 0.9  ┆ 9         │\n",
       "│ 0.9  ┆ 10        │\n",
       "└──────┴───────────┘"
      ],
      "text/html": [
       "<div><style>\n",
       ".dataframe > thead > tr,\n",
       ".dataframe > tbody > tr {\n",
       "  text-align: right;\n",
       "  white-space: pre-wrap;\n",
       "}\n",
       "</style>\n",
       "<small>shape: (10, 2)</small><table border=\"1\" class=\"dataframe\"><thead><tr><th>rmse</th><th>iteration</th></tr><tr><td>f64</td><td>i64</td></tr></thead><tbody><tr><td>1.04</td><td>1</td></tr><tr><td>0.98</td><td>2</td></tr><tr><td>0.95</td><td>3</td></tr><tr><td>0.94</td><td>4</td></tr><tr><td>0.93</td><td>5</td></tr><tr><td>0.92</td><td>6</td></tr><tr><td>0.91</td><td>7</td></tr><tr><td>0.91</td><td>8</td></tr><tr><td>0.9</td><td>9</td></tr><tr><td>0.9</td><td>10</td></tr></tbody></table></div>"
      ]
     },
     "execution_count": 20,
     "metadata": {},
     "output_type": "execute_result"
    }
   ],
   "execution_count": 20
  },
  {
   "metadata": {
    "ExecuteTime": {
     "end_time": "2024-12-09T04:32:21.844037Z",
     "start_time": "2024-12-09T04:32:21.748327Z"
    }
   },
   "cell_type": "code",
   "source": [
    "import matplotlib.pyplot as plt\n",
    "\n",
    "iterations = model.rmse_train_errors[\"iteration\"].to_list()\n",
    "rmse_values = model.rmse_train_errors[\"rmse\"].to_list()\n",
    "\n",
    "plt.style.use('default')\n",
    "plt.plot(iterations, rmse_values, marker='.', linestyle='-', color='b', label='RMSE')\n",
    "plt.xlabel(\"ITERAÇÃO\")\n",
    "plt.ylabel(\"RMSE\")\n",
    "plt.title(\"RMSE no treinamento\")\n",
    "plt.grid(False)\n",
    "plt.legend()\n",
    "plt.show()"
   ],
   "outputs": [
    {
     "data": {
      "text/plain": [
       "<Figure size 640x480 with 1 Axes>"
      ],
      "image/png": "[encoded data removed]"
     },
     "metadata": {},
     "output_type": "display_data"
    }
   ],
   "execution_count": 40
  },
  {
   "metadata": {
    "ExecuteTime": {
     "end_time": "2024-12-09T04:33:00.479130Z",
     "start_time": "2024-12-09T04:33:00.385433Z"
    }
   },
   "cell_type": "code",
   "source": [
    "import matplotlib.pyplot as plt\n",
    "\n",
    "iterations = model.mae_train_errors[\"iteration\"].to_list()\n",
    "mae_values = model.mae_train_errors[\"mae\"].to_list()\n",
    "\n",
    "plt.style.use('default')\n",
    "plt.plot(iterations, mae_values, marker='.', linestyle='-', color='b', label='MAE')\n",
    "plt.xlabel(\"ITERAÇÃO\")\n",
    "plt.ylabel(\"MAE\")\n",
    "plt.title(\"MAE no treinamento\")\n",
    "plt.grid(False)\n",
    "plt.legend()\n",
    "plt.show()"
   ],
   "outputs": [
    {
     "data": {
      "text/plain": [
       "<Figure size 640x480 with 1 Axes>"
      ],
      "image/png": "[encoded data removed]"
     },
     "metadata": {},
     "output_type": "display_data"
    }
   ],
   "execution_count": 42
  }
 ]
}
