{
 "nbformat": 4,
 "nbformat_minor": 0,
 "metadata": {
  "colab": {
   "provenance": [],
   "authorship_tag": "ABX9TyO7SfYcJe6yjCgqpwQOGALe"
  },
  "kernelspec": {
   "name": "python3",
   "display_name": "Python 3 (ipykernel)",
   "language": "python"
  },
  "language_info": {
   "name": "python"
  }
 },
 "cells": [
  {
   "cell_type": "code",
   "execution_count": null,
   "metadata": {
    "id": "PcG-Vl650y6z"
   },
   "outputs": [],
   "source": [
    "!rm -rf sample_data"
   ]
  },
  {
   "cell_type": "code",
   "source": [
    "!pip install polars numpy seaborn"
   ],
   "metadata": {
    "colab": {
     "base_uri": "https://localhost:8080/"
    },
    "id": "gPTpGHF381xs",
    "executionInfo": {
     "status": "ok",
     "timestamp": 1733628674767,
     "user_tz": 240,
     "elapsed": 4209,
     "user": {
      "displayName": "Willon Ferreira",
      "userId": "17540134981984048219"
     }
    },
    "outputId": "ef440f66-39b2-402f-f9b4-331b3291f092"
   },
   "execution_count": null,
   "outputs": [
    {
     "output_type": "stream",
     "name": "stdout",
     "text": [
      "Requirement already satisfied: polars in /usr/local/lib/python3.10/dist-packages (1.9.0)\n",
      "Requirement already satisfied: numpy in /usr/local/lib/python3.10/dist-packages (1.26.4)\n",
      "Requirement already satisfied: seaborn in /usr/local/lib/python3.10/dist-packages (0.13.2)\n",
      "Requirement already satisfied: pandas>=1.2 in /usr/local/lib/python3.10/dist-packages (from seaborn) (2.2.2)\n",
      "Requirement already satisfied: matplotlib!=3.6.1,>=3.4 in /usr/local/lib/python3.10/dist-packages (from seaborn) (3.8.0)\n",
      "Requirement already satisfied: contourpy>=1.0.1 in /usr/local/lib/python3.10/dist-packages (from matplotlib!=3.6.1,>=3.4->seaborn) (1.3.1)\n",
      "Requirement already satisfied: cycler>=0.10 in /usr/local/lib/python3.10/dist-packages (from matplotlib!=3.6.1,>=3.4->seaborn) (0.12.1)\n",
      "Requirement already satisfied: fonttools>=4.22.0 in /usr/local/lib/python3.10/dist-packages (from matplotlib!=3.6.1,>=3.4->seaborn) (4.55.1)\n",
      "Requirement already satisfied: kiwisolver>=1.0.1 in /usr/local/lib/python3.10/dist-packages (from matplotlib!=3.6.1,>=3.4->seaborn) (1.4.7)\n",
      "Requirement already satisfied: packaging>=20.0 in /usr/local/lib/python3.10/dist-packages (from matplotlib!=3.6.1,>=3.4->seaborn) (24.2)\n",
      "Requirement already satisfied: pillow>=6.2.0 in /usr/local/lib/python3.10/dist-packages (from matplotlib!=3.6.1,>=3.4->seaborn) (11.0.0)\n",
      "Requirement already satisfied: pyparsing>=2.3.1 in /usr/local/lib/python3.10/dist-packages (from matplotlib!=3.6.1,>=3.4->seaborn) (3.2.0)\n",
      "Requirement already satisfied: python-dateutil>=2.7 in /usr/local/lib/python3.10/dist-packages (from matplotlib!=3.6.1,>=3.4->seaborn) (2.8.2)\n",
      "Requirement already satisfied: pytz>=2020.1 in /usr/local/lib/python3.10/dist-packages (from pandas>=1.2->seaborn) (2024.2)\n",
      "Requirement already satisfied: tzdata>=2022.7 in /usr/local/lib/python3.10/dist-packages (from pandas>=1.2->seaborn) (2024.2)\n",
      "Requirement already satisfied: six>=1.5 in /usr/local/lib/python3.10/dist-packages (from python-dateutil>=2.7->matplotlib!=3.6.1,>=3.4->seaborn) (1.16.0)\n"
     ]
    }
   ]
  },
  {
   "cell_type": "code",
   "source": [
    "!gdown 1nNrnLYdD6KljcsoNK16CjpWAvJHoNje7 \\\n",
    "&& gdown 1vj2EyN6W0lbA51FJ5a5xnLCoa5kmlRrh \\\n",
    "&& gdown 1E9LHoC11q_dXZeW71bwnXyY9hxLdMf1w \\"
   ],
   "metadata": {
    "id": "ySMjW5jW2OQt",
    "colab": {
     "base_uri": "https://localhost:8080/"
    },
    "executionInfo": {
     "status": "ok",
     "timestamp": 1733628694627,
     "user_tz": 240,
     "elapsed": 19865,
     "user": {
      "displayName": "Willon Ferreira",
      "userId": "17540134981984048219"
     }
    },
    "outputId": "16a23fa2-8641-4049-f5e9-c983f5c078b2"
   },
   "execution_count": null,
   "outputs": [
    {
     "output_type": "stream",
     "name": "stdout",
     "text": [
      "Downloading...\n",
      "From (original): https://drive.google.com/uc?id=1nNrnLYdD6KljcsoNK16CjpWAvJHoNje7\n",
      "From (redirected): https://drive.google.com/uc?id=1nNrnLYdD6KljcsoNK16CjpWAvJHoNje7&confirm=t&uuid=5d6511ce-5584-46af-b472-840e65015867\n",
      "To: /content/ratings.csv\n",
      "100% 877M/877M [00:10<00:00, 80.7MB/s]\n",
      "Downloading...\n",
      "From: https://drive.google.com/uc?id=1vj2EyN6W0lbA51FJ5a5xnLCoa5kmlRrh\n",
      "To: /content/movies.csv\n",
      "100% 494k/494k [00:00<00:00, 7.15MB/s]\n",
      "usage: gdown [-h] [-V] [-O OUTPUT] [-q] [--fuzzy] [--id] [--proxy PROXY] [--speed SPEED]\n",
      "             [--no-cookies] [--no-check-certificate] [--continue] [--folder] [--remaining-ok]\n",
      "             [--format FORMAT] [--user-agent USER_AGENT]\n",
      "             url_or_id\n",
      "gdown: error: unrecognized arguments: \\\n"
     ]
    }
   ]
  },
  {
   "cell_type": "code",
   "source": [
    "import polars as pl\n",
    "import numpy as np\n",
    "import seaborn as sns\n",
    "import math"
   ],
   "metadata": {
    "id": "E_AlhQl14QYv"
   },
   "execution_count": null,
   "outputs": []
  },
  {
   "cell_type": "code",
   "source": [
    "df_movies = pl.read_csv('./movies.csv')\n",
    "df_ratings = pl.read_csv('./ratings.csv')"
   ],
   "metadata": {
    "id": "g8hw2ViN4Rr1",
    "ExecuteTime": {
     "end_time": "2024-12-08T18:02:06.536020Z",
     "start_time": "2024-12-08T18:02:06.524958Z"
    }
   },
   "outputs": [],
   "execution_count": 29
  },
  {
   "metadata": {
    "ExecuteTime": {
     "end_time": "2024-12-08T18:02:10.360574Z",
     "start_time": "2024-12-08T18:02:10.350908Z"
    }
   },
   "cell_type": "code",
   "source": [
    "sample = df_ratings.group_by(\"userId\").agg([\n",
    "    pl.col(\"movieId\").first().alias(\"movieId\"),\n",
    "    pl.col(\"rating\").first().alias(\"rating\")\n",
    "])"
   ],
   "outputs": [],
   "execution_count": 30
  },
  {
   "metadata": {
    "ExecuteTime": {
     "end_time": "2024-12-08T18:02:20.127427Z",
     "start_time": "2024-12-08T18:02:20.114334Z"
    }
   },
   "cell_type": "code",
   "source": "sample.shape",
   "outputs": [
    {
     "data": {
      "text/plain": [
       "(610, 3)"
      ]
     },
     "execution_count": 32,
     "metadata": {},
     "output_type": "execute_result"
    }
   ],
   "execution_count": 32
  },
  {
   "metadata": {
    "ExecuteTime": {
     "end_time": "2024-12-08T18:08:10.400880Z",
     "start_time": "2024-12-08T18:08:10.386374Z"
    }
   },
   "cell_type": "code",
   "source": "df_ratings.shape",
   "outputs": [
    {
     "data": {
      "text/plain": [
       "(100836, 4)"
      ]
     },
     "execution_count": 33,
     "metadata": {},
     "output_type": "execute_result"
    }
   ],
   "execution_count": 33
  },
  {
   "cell_type": "code",
   "source": [
    "df_ratings = df_ratings.drop('timestamp')"
   ],
   "metadata": {
    "id": "U_B1cjOH64ew"
   },
   "execution_count": null,
   "outputs": []
  },
  {
   "cell_type": "code",
   "source": [
    "df_ratings = df_ratings.sort('userId')"
   ],
   "metadata": {
    "id": "VBuMzesjz9go"
   },
   "execution_count": null,
   "outputs": []
  },
  {
   "cell_type": "code",
   "source": [
    "df_ratings.schema"
   ],
   "metadata": {
    "id": "ahJhkt1T-a7a",
    "colab": {
     "base_uri": "https://localhost:8080/"
    },
    "executionInfo": {
     "status": "ok",
     "timestamp": 1733628709069,
     "user_tz": 240,
     "elapsed": 10,
     "user": {
      "displayName": "Willon Ferreira",
      "userId": "17540134981984048219"
     }
    },
    "outputId": "11477521-681f-4cfe-edb3-adb5898ed0e8"
   },
   "execution_count": null,
   "outputs": [
    {
     "output_type": "execute_result",
     "data": {
      "text/plain": [
       "Schema([('userId', Int64), ('movieId', Int64), ('rating', Float64)])"
      ]
     },
     "metadata": {},
     "execution_count": 31
    }
   ]
  },
  {
   "cell_type": "code",
   "source": [
    "df_ratings.head(5)"
   ],
   "metadata": {
    "colab": {
     "base_uri": "https://localhost:8080/",
     "height": 255
    },
    "id": "PQWUeAO-GQfL",
    "executionInfo": {
     "status": "ok",
     "timestamp": 1733628709070,
     "user_tz": 240,
     "elapsed": 10,
     "user": {
      "displayName": "Willon Ferreira",
      "userId": "17540134981984048219"
     }
    },
    "outputId": "00e1c0ae-e740-4b21-d6d4-510be6ffceec"
   },
   "execution_count": null,
   "outputs": [
    {
     "output_type": "execute_result",
     "data": {
      "text/plain": [
       "shape: (5, 3)\n",
       "┌────────┬─────────┬────────┐\n",
       "│ userId ┆ movieId ┆ rating │\n",
       "│ ---    ┆ ---     ┆ ---    │\n",
       "│ i64    ┆ i64     ┆ f64    │\n",
       "╞════════╪═════════╪════════╡\n",
       "│ 1      ┆ 17      ┆ 4.0    │\n",
       "│ 1      ┆ 25      ┆ 1.0    │\n",
       "│ 1      ┆ 29      ┆ 2.0    │\n",
       "│ 1      ┆ 30      ┆ 5.0    │\n",
       "│ 1      ┆ 32      ┆ 5.0    │\n",
       "└────────┴─────────┴────────┘"
      ],
      "text/html": [
       "<div><style>\n",
       ".dataframe > thead > tr,\n",
       ".dataframe > tbody > tr {\n",
       "  text-align: right;\n",
       "  white-space: pre-wrap;\n",
       "}\n",
       "</style>\n",
       "<small>shape: (5, 3)</small><table border=\"1\" class=\"dataframe\"><thead><tr><th>userId</th><th>movieId</th><th>rating</th></tr><tr><td>i64</td><td>i64</td><td>f64</td></tr></thead><tbody><tr><td>1</td><td>17</td><td>4.0</td></tr><tr><td>1</td><td>25</td><td>1.0</td></tr><tr><td>1</td><td>29</td><td>2.0</td></tr><tr><td>1</td><td>30</td><td>5.0</td></tr><tr><td>1</td><td>32</td><td>5.0</td></tr></tbody></table></div>"
      ]
     },
     "metadata": {},
     "execution_count": 32
    }
   ]
  },
  {
   "cell_type": "code",
   "source": [
    "df_ratings.tail()"
   ],
   "metadata": {
    "colab": {
     "base_uri": "https://localhost:8080/",
     "height": 255
    },
    "id": "-qDuXVaw9Qva",
    "executionInfo": {
     "status": "ok",
     "timestamp": 1733628709070,
     "user_tz": 240,
     "elapsed": 8,
     "user": {
      "displayName": "Willon Ferreira",
      "userId": "17540134981984048219"
     }
    },
    "outputId": "2f055b10-0b00-42e3-8ab4-25ee58b6cc91"
   },
   "execution_count": null,
   "outputs": [
    {
     "output_type": "execute_result",
     "data": {
      "text/plain": [
       "shape: (5, 3)\n",
       "┌────────┬─────────┬────────┐\n",
       "│ userId ┆ movieId ┆ rating │\n",
       "│ ---    ┆ ---     ┆ ---    │\n",
       "│ i64    ┆ i64     ┆ f64    │\n",
       "╞════════╪═════════╪════════╡\n",
       "│ 200948 ┆ 79702   ┆ 4.5    │\n",
       "│ 200948 ┆ 79796   ┆ 1.0    │\n",
       "│ 200948 ┆ 80350   ┆ 0.5    │\n",
       "│ 200948 ┆ 80463   ┆ 3.5    │\n",
       "│ 200948 ┆ 87304   ┆ 4.5    │\n",
       "└────────┴─────────┴────────┘"
      ],
      "text/html": [
       "<div><style>\n",
       ".dataframe > thead > tr,\n",
       ".dataframe > tbody > tr {\n",
       "  text-align: right;\n",
       "  white-space: pre-wrap;\n",
       "}\n",
       "</style>\n",
       "<small>shape: (5, 3)</small><table border=\"1\" class=\"dataframe\"><thead><tr><th>userId</th><th>movieId</th><th>rating</th></tr><tr><td>i64</td><td>i64</td><td>f64</td></tr></thead><tbody><tr><td>200948</td><td>79702</td><td>4.5</td></tr><tr><td>200948</td><td>79796</td><td>1.0</td></tr><tr><td>200948</td><td>80350</td><td>0.5</td></tr><tr><td>200948</td><td>80463</td><td>3.5</td></tr><tr><td>200948</td><td>87304</td><td>4.5</td></tr></tbody></table></div>"
      ]
     },
     "metadata": {},
     "execution_count": 33
    }
   ]
  },
  {
   "cell_type": "code",
   "source": [
    "df_ratings.describe()"
   ],
   "metadata": {
    "colab": {
     "base_uri": "https://localhost:8080/",
     "height": 380
    },
    "id": "NEfTEieUGQC9",
    "executionInfo": {
     "status": "ok",
     "timestamp": 1733628711583,
     "user_tz": 240,
     "elapsed": 2520,
     "user": {
      "displayName": "Willon Ferreira",
      "userId": "17540134981984048219"
     }
    },
    "outputId": "8a9612f6-bd63-4899-e288-a31b1c77af64"
   },
   "execution_count": null,
   "outputs": [
    {
     "output_type": "execute_result",
     "data": {
      "text/plain": [
       "shape: (9, 4)\n",
       "┌────────────┬───────────────┬──────────────┬─────────────┐\n",
       "│ statistic  ┆ userId        ┆ movieId      ┆ rating      │\n",
       "│ ---        ┆ ---           ┆ ---          ┆ ---         │\n",
       "│ str        ┆ f64           ┆ f64          ┆ f64         │\n",
       "╞════════════╪═══════════════╪══════════════╪═════════════╡\n",
       "│ count      ┆ 3.2000204e7   ┆ 3.2000204e7  ┆ 3.2000204e7 │\n",
       "│ null_count ┆ 0.0           ┆ 0.0          ┆ 0.0         │\n",
       "│ mean       ┆ 100278.506411 ┆ 29318.610122 ┆ 3.540396    │\n",
       "│ std        ┆ 57949.046233  ┆ 50958.16088  ┆ 1.058986    │\n",
       "│ min        ┆ 1.0           ┆ 1.0          ┆ 0.5         │\n",
       "│ 25%        ┆ 50053.0       ┆ 1233.0       ┆ 3.0         │\n",
       "│ 50%        ┆ 100297.0      ┆ 3452.0       ┆ 3.5         │\n",
       "│ 75%        ┆ 150451.0      ┆ 44199.0      ┆ 4.0         │\n",
       "│ max        ┆ 200948.0      ┆ 292757.0     ┆ 5.0         │\n",
       "└────────────┴───────────────┴──────────────┴─────────────┘"
      ],
      "text/html": [
       "<div><style>\n",
       ".dataframe > thead > tr,\n",
       ".dataframe > tbody > tr {\n",
       "  text-align: right;\n",
       "  white-space: pre-wrap;\n",
       "}\n",
       "</style>\n",
       "<small>shape: (9, 4)</small><table border=\"1\" class=\"dataframe\"><thead><tr><th>statistic</th><th>userId</th><th>movieId</th><th>rating</th></tr><tr><td>str</td><td>f64</td><td>f64</td><td>f64</td></tr></thead><tbody><tr><td>&quot;count&quot;</td><td>3.2000204e7</td><td>3.2000204e7</td><td>3.2000204e7</td></tr><tr><td>&quot;null_count&quot;</td><td>0.0</td><td>0.0</td><td>0.0</td></tr><tr><td>&quot;mean&quot;</td><td>100278.506411</td><td>29318.610122</td><td>3.540396</td></tr><tr><td>&quot;std&quot;</td><td>57949.046233</td><td>50958.16088</td><td>1.058986</td></tr><tr><td>&quot;min&quot;</td><td>1.0</td><td>1.0</td><td>0.5</td></tr><tr><td>&quot;25%&quot;</td><td>50053.0</td><td>1233.0</td><td>3.0</td></tr><tr><td>&quot;50%&quot;</td><td>100297.0</td><td>3452.0</td><td>3.5</td></tr><tr><td>&quot;75%&quot;</td><td>150451.0</td><td>44199.0</td><td>4.0</td></tr><tr><td>&quot;max&quot;</td><td>200948.0</td><td>292757.0</td><td>5.0</td></tr></tbody></table></div>"
      ]
     },
     "metadata": {},
     "execution_count": 34
    }
   ]
  },
  {
   "cell_type": "code",
   "source": [
    "users = df_ratings.select('userId').sort('userId').unique()\n",
    "itens = df_ratings.select('movieId').sort('movieId').unique()"
   ],
   "metadata": {
    "id": "friZ97ScClag"
   },
   "execution_count": null,
   "outputs": []
  },
  {
   "cell_type": "code",
   "source": [
    "class FunkSVDModelResult:\n",
    "  def __init__(self, global_mean, users_bias, itens_bias, P_matrix, Q_matrix, errors, iterations):\n",
    "    self.global_mean = global_mean\n",
    "    self.users_bias = users_bias\n",
    "    self.itens_bias = itens_bias\n",
    "    self.P_matrix = P_matrix\n",
    "    self.Q_matrix = Q_matrix\n",
    "    errors_array = np.array([errors, list(range(1, iterations+1))])\n",
    "    self.errors = pl.DataFrame(errors_array, schema=[(\"error\", pl.Float32), (\"iteration\", pl.Int64)], orient=\"col\")\n",
    "\n",
    "  def predict(self, user_id, item_id):\n",
    "    return round(self.global_mean + self.users_bias[user_id] + self.itens_bias[item_id] + np.dot(self.P_matrix[user_id], self.Q_matrix[item_id]), 2)\n"
   ],
   "metadata": {
    "id": "4Ss_lK4LLCHx"
   },
   "execution_count": null,
   "outputs": []
  },
  {
   "cell_type": "code",
   "source": [
    "def funkSVD(rating_matrix, users, itens, k, learning_rate=0.05, regulation=0.02, iterations=10):\n",
    "  rating_n_rows = rating_matrix.shape[0]\n",
    "\n",
    "  global_mean = rating_matrix.select('rating').mean()['rating'][0]\n",
    "\n",
    "  n_users = rating_matrix.select('userId').max().rows()[0][0]\n",
    "  n_items = rating_matrix.select('movieId').max().rows()[0][0]\n",
    "\n",
    "  users_bias = np.zeros(shape=n_users)\n",
    "  itens_bias = np.zeros(shape=n_items)\n",
    "\n",
    "  P_matrix = np.full(shape=(n_users, k), fill_value=0.1)\n",
    "  Q_matrix = np.full(shape=(n_items, k), fill_value=0.1)\n",
    "\n",
    "  errors = list()\n",
    "\n",
    "  for n_iteration in range(iterations):\n",
    "    sq_error = 0\n",
    "    for r_matrix_row in range(rating_n_rows):\n",
    "\n",
    "      user = rating_matrix[r_matrix_row].select('userId').rows()[0][0] - 1\n",
    "      item = rating_matrix[r_matrix_row].select('movieId').rows()[0][0] - 1\n",
    "      real_r = rating_matrix[r_matrix_row].select('rating').rows()[0][0]\n",
    "\n",
    "      pred_r = (global_mean + users_bias[user]\n",
    "       + itens_bias[item] + np.dot(P_matrix[user], Q_matrix[item]))\n",
    "      error_ui = real_r - pred_r\n",
    "      sq_error = sq_error + error_ui**2\n",
    "\n",
    "      users_bias[user] = users_bias[user] + learning_rate*(error_ui - regulation*users_bias[user])\n",
    "      itens_bias[item] = itens_bias[item] + learning_rate*(error_ui - regulation*itens_bias[item])\n",
    "\n",
    "      for factor in range(k):\n",
    "        temp_uf = P_matrix[user, factor]\n",
    "        P_matrix[user, factor] = P_matrix[user, factor] + learning_rate*(error_ui*Q_matrix[item, factor] - regulation*P_matrix[user, factor])\n",
    "        Q_matrix[item, factor] = Q_matrix[item, factor] + learning_rate*(error_ui*temp_uf - regulation*Q_matrix[item, factor])\n",
    "    errors.append(math.sqrt(sq_error/rating_n_rows))  # RMSE\n",
    "\n",
    "  return FunkSVDModelResult(global_mean, users_bias, itens_bias, P_matrix, Q_matrix, errors, iterations)\n"
   ],
   "metadata": {
    "id": "C7fXj-fC_fTe"
   },
   "execution_count": null,
   "outputs": []
  },
  {
   "cell_type": "code",
   "source": [
    "sample = df_ratings.group_by(\"userId\").agg([\n",
    "    pl.col(\"movieId\").first().alias(\"movieId\"),\n",
    "    pl.col(\"rating\").first().alias(\"rating\")\n",
    "])"
   ],
   "metadata": {
    "id": "17n40Gd_4ukr"
   },
   "execution_count": null,
   "outputs": []
  },
  {
   "cell_type": "code",
   "source": [
    "model = funkSVD(sample, users, itens, k=50)"
   ],
   "metadata": {
    "id": "An3QjS0HPH5l",
    "executionInfo": {
     "status": "ok",
     "timestamp": 1733629055383,
     "user_tz": 240,
     "elapsed": 297,
     "user": {
      "displayName": "Willon Ferreira",
      "userId": "17540134981984048219"
     }
    },
    "colab": {
     "base_uri": "https://localhost:8080/"
    },
    "outputId": "02215a09-8c00-48cb-90fd-da1b1d946720"
   },
   "execution_count": null,
   "outputs": [
    {
     "output_type": "stream",
     "name": "stdout",
     "text": [
      "10 11\n"
     ]
    }
   ]
  },
  {
   "cell_type": "code",
   "source": [
    "model.errors"
   ],
   "metadata": {
    "id": "ON8hKM6aAvXq"
   },
   "execution_count": null,
   "outputs": []
  },
  {
   "cell_type": "code",
   "source": [
    "# Prevendo avaliação do usuário 500 para o item 100\n",
    "model.predict(user_id=5, item_id=10)"
   ],
   "metadata": {
    "id": "1mzE0If3IuPz"
   },
   "execution_count": null,
   "outputs": []
  },
  {
   "cell_type": "code",
   "source": [],
   "metadata": {
    "id": "5MDgQtsA2Yty"
   },
   "execution_count": null,
   "outputs": []
  }
 ]
}
